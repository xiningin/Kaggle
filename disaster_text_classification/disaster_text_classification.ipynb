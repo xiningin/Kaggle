{
 "cells": [
  {
   "cell_type": "code",
   "execution_count": 1,
   "id": "c169fcd7",
   "metadata": {},
   "outputs": [],
   "source": [
    "import numpy as np\n",
    "import pandas as pd\n",
    "import matplotlib.pyplot as plt\n",
    "import seaborn as sns\n",
    "import string\n",
    "plt.rcParams.update({'font.size': 14})"
   ]
  },
  {
   "cell_type": "markdown",
   "id": "08c60904",
   "metadata": {},
   "source": [
    "### 读取文件"
   ]
  },
  {
   "cell_type": "code",
   "execution_count": 2,
   "id": "da82f6d7",
   "metadata": {},
   "outputs": [
    {
     "name": "stdout",
     "output_type": "stream",
     "text": [
      "(7613, 5) (3263, 4) (3263, 2)\n"
     ]
    }
   ],
   "source": [
    "train = pd.read_csv(\"./train.csv\")\n",
    "test = pd.read_csv(\"./test.csv\")\n",
    "sub_sample = pd.read_csv(\"./sample_submission.csv\")\n",
    "\n",
    "print(train.shape , test.shape , sub_sample.shape)"
   ]
  },
  {
   "cell_type": "markdown",
   "id": "1ef17982",
   "metadata": {},
   "source": [
    "### 简单探索一下数据"
   ]
  },
  {
   "cell_type": "code",
   "execution_count": 3,
   "id": "e6a9a665",
   "metadata": {},
   "outputs": [
    {
     "data": {
      "text/html": [
       "<div>\n",
       "<style scoped>\n",
       "    .dataframe tbody tr th:only-of-type {\n",
       "        vertical-align: middle;\n",
       "    }\n",
       "\n",
       "    .dataframe tbody tr th {\n",
       "        vertical-align: top;\n",
       "    }\n",
       "\n",
       "    .dataframe thead th {\n",
       "        text-align: right;\n",
       "    }\n",
       "</style>\n",
       "<table border=\"1\" class=\"dataframe\">\n",
       "  <thead>\n",
       "    <tr style=\"text-align: right;\">\n",
       "      <th></th>\n",
       "      <th>id</th>\n",
       "      <th>keyword</th>\n",
       "      <th>location</th>\n",
       "      <th>text</th>\n",
       "      <th>target</th>\n",
       "    </tr>\n",
       "  </thead>\n",
       "  <tbody>\n",
       "    <tr>\n",
       "      <th>0</th>\n",
       "      <td>1</td>\n",
       "      <td>NaN</td>\n",
       "      <td>NaN</td>\n",
       "      <td>Our Deeds are the Reason of this #earthquake M...</td>\n",
       "      <td>1</td>\n",
       "    </tr>\n",
       "    <tr>\n",
       "      <th>1</th>\n",
       "      <td>4</td>\n",
       "      <td>NaN</td>\n",
       "      <td>NaN</td>\n",
       "      <td>Forest fire near La Ronge Sask. Canada</td>\n",
       "      <td>1</td>\n",
       "    </tr>\n",
       "    <tr>\n",
       "      <th>2</th>\n",
       "      <td>5</td>\n",
       "      <td>NaN</td>\n",
       "      <td>NaN</td>\n",
       "      <td>All residents asked to 'shelter in place' are ...</td>\n",
       "      <td>1</td>\n",
       "    </tr>\n",
       "    <tr>\n",
       "      <th>3</th>\n",
       "      <td>6</td>\n",
       "      <td>NaN</td>\n",
       "      <td>NaN</td>\n",
       "      <td>13,000 people receive #wildfires evacuation or...</td>\n",
       "      <td>1</td>\n",
       "    </tr>\n",
       "    <tr>\n",
       "      <th>4</th>\n",
       "      <td>7</td>\n",
       "      <td>NaN</td>\n",
       "      <td>NaN</td>\n",
       "      <td>Just got sent this photo from Ruby #Alaska as ...</td>\n",
       "      <td>1</td>\n",
       "    </tr>\n",
       "    <tr>\n",
       "      <th>5</th>\n",
       "      <td>8</td>\n",
       "      <td>NaN</td>\n",
       "      <td>NaN</td>\n",
       "      <td>#RockyFire Update =&gt; California Hwy. 20 closed...</td>\n",
       "      <td>1</td>\n",
       "    </tr>\n",
       "    <tr>\n",
       "      <th>6</th>\n",
       "      <td>10</td>\n",
       "      <td>NaN</td>\n",
       "      <td>NaN</td>\n",
       "      <td>#flood #disaster Heavy rain causes flash flood...</td>\n",
       "      <td>1</td>\n",
       "    </tr>\n",
       "    <tr>\n",
       "      <th>7</th>\n",
       "      <td>13</td>\n",
       "      <td>NaN</td>\n",
       "      <td>NaN</td>\n",
       "      <td>I'm on top of the hill and I can see a fire in...</td>\n",
       "      <td>1</td>\n",
       "    </tr>\n",
       "    <tr>\n",
       "      <th>8</th>\n",
       "      <td>14</td>\n",
       "      <td>NaN</td>\n",
       "      <td>NaN</td>\n",
       "      <td>There's an emergency evacuation happening now ...</td>\n",
       "      <td>1</td>\n",
       "    </tr>\n",
       "    <tr>\n",
       "      <th>9</th>\n",
       "      <td>15</td>\n",
       "      <td>NaN</td>\n",
       "      <td>NaN</td>\n",
       "      <td>I'm afraid that the tornado is coming to our a...</td>\n",
       "      <td>1</td>\n",
       "    </tr>\n",
       "  </tbody>\n",
       "</table>\n",
       "</div>"
      ],
      "text/plain": [
       "   id keyword location                                               text  \\\n",
       "0   1     NaN      NaN  Our Deeds are the Reason of this #earthquake M...   \n",
       "1   4     NaN      NaN             Forest fire near La Ronge Sask. Canada   \n",
       "2   5     NaN      NaN  All residents asked to 'shelter in place' are ...   \n",
       "3   6     NaN      NaN  13,000 people receive #wildfires evacuation or...   \n",
       "4   7     NaN      NaN  Just got sent this photo from Ruby #Alaska as ...   \n",
       "5   8     NaN      NaN  #RockyFire Update => California Hwy. 20 closed...   \n",
       "6  10     NaN      NaN  #flood #disaster Heavy rain causes flash flood...   \n",
       "7  13     NaN      NaN  I'm on top of the hill and I can see a fire in...   \n",
       "8  14     NaN      NaN  There's an emergency evacuation happening now ...   \n",
       "9  15     NaN      NaN  I'm afraid that the tornado is coming to our a...   \n",
       "\n",
       "   target  \n",
       "0       1  \n",
       "1       1  \n",
       "2       1  \n",
       "3       1  \n",
       "4       1  \n",
       "5       1  \n",
       "6       1  \n",
       "7       1  \n",
       "8       1  \n",
       "9       1  "
      ]
     },
     "execution_count": 3,
     "metadata": {},
     "output_type": "execute_result"
    }
   ],
   "source": [
    "train.head(10)"
   ]
  },
  {
   "cell_type": "code",
   "execution_count": 4,
   "id": "f3945146",
   "metadata": {},
   "outputs": [
    {
     "data": {
      "text/plain": [
       "0"
      ]
     },
     "execution_count": 4,
     "metadata": {},
     "output_type": "execute_result"
    }
   ],
   "source": [
    "train.duplicated().sum() #求重复行数，看结果是没有重复数据的"
   ]
  },
  {
   "cell_type": "code",
   "execution_count": 5,
   "id": "16627445",
   "metadata": {},
   "outputs": [
    {
     "data": {
      "image/png": "[encoded data removed]",
      "text/plain": [
       "<Figure size 432x288 with 1 Axes>"
      ]
     },
     "metadata": {
      "needs_background": "light"
     },
     "output_type": "display_data"
    }
   ],
   "source": [
    "sns.countplot(y=train.target);"
   ]
  },
  {
   "cell_type": "markdown",
   "id": "263255e7",
   "metadata": {},
   "source": [
    "算一下rtain和test里面空数据情况"
   ]
  },
  {
   "cell_type": "code",
   "execution_count": 6,
   "id": "a83bb528",
   "metadata": {},
   "outputs": [
    {
     "data": {
      "text/plain": [
       "id             0\n",
       "keyword       61\n",
       "location    2533\n",
       "text           0\n",
       "target         0\n",
       "dtype: int64"
      ]
     },
     "execution_count": 6,
     "metadata": {},
     "output_type": "execute_result"
    }
   ],
   "source": [
    "train.isnull().sum()"
   ]
  },
  {
   "cell_type": "code",
   "execution_count": 7,
   "id": "043e1846",
   "metadata": {},
   "outputs": [
    {
     "data": {
      "text/plain": [
       "id             0\n",
       "keyword       26\n",
       "location    1105\n",
       "text           0\n",
       "dtype: int64"
      ]
     },
     "execution_count": 7,
     "metadata": {},
     "output_type": "execute_result"
    }
   ],
   "source": [
    "test.isnull().sum()"
   ]
  },
  {
   "cell_type": "markdown",
   "id": "2d94bccc",
   "metadata": {},
   "source": [
    "### 看keywords这列数据"
   ]
  },
  {
   "cell_type": "code",
   "execution_count": 8,
   "id": "6d67418d",
   "metadata": {},
   "outputs": [
    {
     "name": "stdout",
     "output_type": "stream",
     "text": [
      "221 221\n",
      "set()\n"
     ]
    }
   ],
   "source": [
    "print(train.keyword.nunique() , test.keyword.nunique())\n",
    "print(set(train.keyword.unique()) - set(test.keyword.unique()))"
   ]
  },
  {
   "cell_type": "markdown",
   "id": "26eaee75",
   "metadata": {},
   "source": [
    "看结果来是train和test里面有相同的keyword"
   ]
  },
  {
   "cell_type": "code",
   "execution_count": 9,
   "id": "e8858f29",
   "metadata": {},
   "outputs": [
    {
     "data": {
      "image/png": "[encoded data removed]",
      "text/plain": [
       "<Figure size 648x432 with 1 Axes>"
      ]
     },
     "metadata": {
      "needs_background": "light"
     },
     "output_type": "display_data"
    }
   ],
   "source": [
    "plt.figure(figsize = (9,6))\n",
    "sns.countplot(y=train.keyword , order=train.keyword.value_counts().iloc[:15].index)\n",
    "plt.show()"
   ]
  },
  {
   "cell_type": "code",
   "execution_count": 10,
   "id": "7dd25519",
   "metadata": {},
   "outputs": [
    {
     "name": "stderr",
     "output_type": "stream",
     "text": [
      "/root/miniconda3/lib/python3.8/site-packages/seaborn/_decorators.py:36: FutureWarning: Pass the following variables as keyword args: x, y. From version 0.12, the only valid positional argument will be `data`, and passing other arguments without an explicit keyword will result in an error or misinterpretation.\n",
      "  warnings.warn(\n",
      "/root/miniconda3/lib/python3.8/site-packages/seaborn/_decorators.py:36: FutureWarning: Pass the following variables as keyword args: x, y. From version 0.12, the only valid positional argument will be `data`, and passing other arguments without an explicit keyword will result in an error or misinterpretation.\n",
      "  warnings.warn(\n"
     ]
    },
    {
     "data": {
      "image/png": "[encoded data removed]",
      "text/plain": [
       "<Figure size 1296x360 with 2 Axes>"
      ]
     },
     "metadata": {
      "needs_background": "light"
     },
     "output_type": "display_data"
    }
   ],
   "source": [
    "kw_d = train[train[\"target\"] == 1].keyword.value_counts().head(10)\n",
    "kw_nd = train[train[\"target\"] == 0].keyword.value_counts().head(10)\n",
    "\n",
    "plt.figure(figsize=(18,5))\n",
    "plt.subplot(131)\n",
    "sns.barplot(kw_d , kw_d.index , color='c')\n",
    "plt.title('Top keywords for disaster tweets')\n",
    "plt.subplot(133)\n",
    "sns.barplot(kw_nd , kw_nd.index , color='lightpink')\n",
    "plt.title('Top keywords for non-disaster tweets')\n",
    "\n",
    "plt.show()"
   ]
  },
  {
   "cell_type": "code",
   "execution_count": 11,
   "id": "be08ce7c",
   "metadata": {},
   "outputs": [
    {
     "name": "stderr",
     "output_type": "stream",
     "text": [
      "/tmp/ipykernel_1620/1980247581.py:1: FutureWarning: The default value of numeric_only in DataFrameGroupBy.mean is deprecated. In a future version, numeric_only will default to False. Either specify numeric_only or select only columns which should be valid for the function.\n",
      "  top_d = train.groupby('keyword').mean()['target'].sort_values(ascending=False).head(10) #最高的10个\n",
      "/tmp/ipykernel_1620/1980247581.py:2: FutureWarning: The default value of numeric_only in DataFrameGroupBy.mean is deprecated. In a future version, numeric_only will default to False. Either specify numeric_only or select only columns which should be valid for the function.\n",
      "  top_nd = train.groupby('keyword').mean()['target'].sort_values().head(10) #末尾10个\n",
      "/root/miniconda3/lib/python3.8/site-packages/seaborn/_decorators.py:36: FutureWarning: Pass the following variables as keyword args: x, y. From version 0.12, the only valid positional argument will be `data`, and passing other arguments without an explicit keyword will result in an error or misinterpretation.\n",
      "  warnings.warn(\n",
      "/root/miniconda3/lib/python3.8/site-packages/seaborn/_decorators.py:36: FutureWarning: Pass the following variables as keyword args: x, y. From version 0.12, the only valid positional argument will be `data`, and passing other arguments without an explicit keyword will result in an error or misinterpretation.\n",
      "  warnings.warn(\n"
     ]
    },
    {
     "data": {
      "image/png": "[encoded data removed]",
      "text/plain": [
       "<Figure size 1296x360 with 2 Axes>"
      ]
     },
     "metadata": {
      "needs_background": "light"
     },
     "output_type": "display_data"
    }
   ],
   "source": [
    "top_d = train.groupby('keyword').mean()['target'].sort_values(ascending=False).head(10) #最高的10个\n",
    "top_nd = train.groupby('keyword').mean()['target'].sort_values().head(10) #末尾10个\n",
    "\n",
    "plt.figure(figsize=(18,5))\n",
    "plt.subplot(131)\n",
    "sns.barplot(top_d , top_d.index , color='skyblue')\n",
    "plt.title('Keywords with highest percentage of disaster tweets')\n",
    "plt.subplot(133)\n",
    "sns.barplot(top_nd , top_nd.index , color='darkgray')\n",
    "plt.title('Keywords with lowest percentage of disaster tweets')\n",
    "\n",
    "plt.show()"
   ]
  },
  {
   "cell_type": "markdown",
   "id": "029271d3",
   "metadata": {},
   "source": [
    "### 看看location属性"
   ]
  },
  {
   "cell_type": "code",
   "execution_count": 12,
   "id": "4da67d85",
   "metadata": {},
   "outputs": [
    {
     "name": "stdout",
     "output_type": "stream",
     "text": [
      "3341 1602\n"
     ]
    }
   ],
   "source": [
    "print(train[\"location\"].nunique() , test[\"location\"].nunique())"
   ]
  },
  {
   "cell_type": "code",
   "execution_count": 13,
   "id": "72c12ecb",
   "metadata": {},
   "outputs": [
    {
     "data": {
      "image/png": "[encoded data removed]",
      "text/plain": [
       "<Figure size 648x432 with 1 Axes>"
      ]
     },
     "metadata": {
      "needs_background": "light"
     },
     "output_type": "display_data"
    }
   ],
   "source": [
    "plt.figure(figsize=(9,6))\n",
    "sns.countplot(y=train[\"location\"] , order=train[\"location\"].value_counts().iloc[:15].index)\n",
    "plt.title(\"Top 15 counts locations\")\n",
    "plt.show()"
   ]
  },
  {
   "cell_type": "markdown",
   "id": "2d101221",
   "metadata": {},
   "source": [
    "由于位置是自由文本，数据不干净，您可以在顶部位置同时看到“USA”和“United States”。然后，我们查看了灾难推文中的常见地点。"
   ]
  },
  {
   "cell_type": "code",
   "execution_count": 14,
   "id": "fcb2b180",
   "metadata": {},
   "outputs": [
    {
     "name": "stderr",
     "output_type": "stream",
     "text": [
      "/tmp/ipykernel_1620/3485893326.py:5: FutureWarning: The default value of numeric_only in DataFrameGroupBy.mean is deprecated. In a future version, numeric_only will default to False. Either specify numeric_only or select only columns which should be valid for the function.\n",
      "  top_l = top_only.groupby(\"location\").mean()['target'].sort_values(ascending=False)\n"
     ]
    },
    {
     "data": {
      "image/png": "[encoded data removed]",
      "text/plain": [
       "<Figure size 1080x432 with 1 Axes>"
      ]
     },
     "metadata": {
      "needs_background": "light"
     },
     "output_type": "display_data"
    }
   ],
   "source": [
    "row_loc = train.location.value_counts()\n",
    "top_loc = list(row_loc[row_loc >= 10].index)\n",
    "top_only = train[train.location.isin(top_loc)]\n",
    "\n",
    "top_l = top_only.groupby(\"location\").mean()['target'].sort_values(ascending=False)\n",
    "plt.figure(figsize=(15,6))\n",
    "sns.barplot(x=top_l.index , y=top_l)\n",
    "plt.axhline(np.mean(train[\"target\"]))\n",
    "plt.xticks(rotation=80)\n",
    "plt.show()"
   ]
  },
  {
   "cell_type": "markdown",
   "id": "d0e1daa9",
   "metadata": {},
   "source": [
    "灾难推文占比最高的前三个地点是孟买、伊尼达和尼日利亚。由于位置数据不干净，我们看到了一些有趣的案例，例如“英国伦敦”的灾难推文中，百分比高于平均值，但“伦敦”低于平均值。我们试图清理位置，看看是否存在任何差异："
   ]
  },
  {
   "cell_type": "code",
   "execution_count": 15,
   "id": "632cd698",
   "metadata": {},
   "outputs": [],
   "source": [
    "#处理空缺值\n",
    "for col in ['keyword' , 'location']:\n",
    "    train[col] = train[col].fillna('None')\n",
    "    test[col] = test[col].fillna('None')\n",
    "\n",
    "#手动将数据中location中同一地区的不同输入做统一化\n",
    "def clean_loc(x):\n",
    "    if x == 'None':\n",
    "        return 'None'\n",
    "    elif x == 'Earth' or x =='Worldwide' or x == 'Everywhere':\n",
    "        return 'World'\n",
    "    elif 'New York' in x or 'NYC' in x:\n",
    "        return 'New York'    \n",
    "    elif 'London' in x:\n",
    "        return 'London'\n",
    "    elif 'Mumbai' in x:\n",
    "        return 'Mumbai'\n",
    "    elif 'Washington' in x and 'D' in x and 'C' in x:\n",
    "        return 'Washington DC'\n",
    "    elif 'San Francisco' in x:\n",
    "        return 'San Francisco'\n",
    "    elif 'Los Angeles' in x:\n",
    "        return 'Los Angeles'\n",
    "    elif 'Seattle' in x:\n",
    "        return 'Seattle'\n",
    "    elif 'Chicago' in x:\n",
    "        return 'Chicago'\n",
    "    elif 'Toronto' in x:\n",
    "        return 'Toronto'\n",
    "    elif 'Sacramento' in x:\n",
    "        return 'Sacramento'\n",
    "    elif 'Atlanta' in x:\n",
    "        return 'Atlanta'\n",
    "    elif 'California' in x:\n",
    "        return 'California'\n",
    "    elif 'Florida' in x:\n",
    "        return 'Florida'\n",
    "    elif 'Texas' in x:\n",
    "        return 'Texas'\n",
    "    elif 'United States' in x or 'USA' in x:\n",
    "        return 'USA'\n",
    "    elif 'United Kingdom' in x or 'UK' in x or 'Britain' in x:\n",
    "        return 'UK'\n",
    "    elif 'Canada' in x:\n",
    "        return 'Canada'\n",
    "    elif 'India' in x:\n",
    "        return 'India'\n",
    "    elif 'Kenya' in x:\n",
    "        return 'Kenya'\n",
    "    elif 'Nigeria' in x:\n",
    "        return 'Nigeria'\n",
    "    elif 'Australia' in x:\n",
    "        return 'Australia'\n",
    "    elif 'Indonesia' in x:\n",
    "        return 'Indonesia'\n",
    "    elif x in top_loc:\n",
    "        return x\n",
    "    else: return 'Others'\n",
    "    \n",
    "train['location_clean'] = train['location'].apply(lambda x: clean_loc(str(x)))\n",
    "test['location_clean'] = test['location'].apply(lambda x: clean_loc(str(x)))"
   ]
  },
  {
   "cell_type": "code",
   "execution_count": 16,
   "id": "bd184ef4",
   "metadata": {},
   "outputs": [
    {
     "name": "stderr",
     "output_type": "stream",
     "text": [
      "/tmp/ipykernel_1620/2538636756.py:1: FutureWarning: The default value of numeric_only in DataFrameGroupBy.mean is deprecated. In a future version, numeric_only will default to False. Either specify numeric_only or select only columns which should be valid for the function.\n",
      "  top_location_2 = train.groupby(\"location_clean\").mean()[\"target\"].sort_values(ascending=False)\n"
     ]
    },
    {
     "data": {
      "image/png": "[encoded data removed]",
      "text/plain": [
       "<Figure size 1008x432 with 1 Axes>"
      ]
     },
     "metadata": {
      "needs_background": "light"
     },
     "output_type": "display_data"
    }
   ],
   "source": [
    "top_location_2 = train.groupby(\"location_clean\").mean()[\"target\"].sort_values(ascending=False)\n",
    "plt.figure(figsize=(14,6))\n",
    "sns.barplot(x=top_location_2.index , y=top_location_2)\n",
    "plt.axhline(np.mean(train[\"target\"]))\n",
    "plt.xticks(rotation=80)\n",
    "plt.show()"
   ]
  },
  {
   "cell_type": "markdown",
   "id": "21c8386e",
   "metadata": {},
   "source": [
    "孟买和尼日利亚仍然位居榜首。除了奇怪的“ss”，伦敦和纽约在百分比的灾难推文中垫底"
   ]
  },
  {
   "cell_type": "markdown",
   "id": "3a219efa",
   "metadata": {},
   "source": [
    "### 开始清洗text列"
   ]
  },
  {
   "cell_type": "markdown",
   "id": "70de8d8b",
   "metadata": {},
   "source": [
    "1.删除链接和不必要的空白 \\\n",
    "2.创建包含标签、提及和链接列表的单独列 \\\n",
    "3.自定义template合并文字信息"
   ]
  },
  {
   "cell_type": "code",
   "execution_count": 17,
   "id": "0b7f4491",
   "metadata": {
    "scrolled": true
   },
   "outputs": [
    {
     "name": "stdout",
     "output_type": "stream",
     "text": [
      "remove Link: \n",
      "Suspected serial arsonist arrested in Calif. http://t.co/PzotPDGAkI -> Suspected serial arsonist arrested in Calif. \n",
      "\n",
      "remove line breaks: \n",
      "Suspected serial arsonist arrested in Calif. http://t.co/PzotPDGAkI -> Suspected serial arsonist arrested in Calif. http://t.co/PzotPDGAkI\n",
      "\n",
      "remove others: \n",
      "Suspected serial arsonist arrested in Calif. http://t.co/PzotPDGAkI -> Suspected serial arsonist arrested in Calif. http://t.co/PzotPDGAkI\n"
     ]
    }
   ],
   "source": [
    "import re\n",
    "\n",
    "test_str = train.loc[416 , \"text\"]\n",
    "text_no_link = re.sub(r'https?://\\S+' , '' , test_str)\n",
    "text_no_lineBreak = re.sub(r'\\n' , ' ' , test_str)\n",
    "text_no_others = re.sub('\\s+' , ' ' , test_str).strip()\n",
    "\n",
    "print(f\"remove Link: \\n{test_str} -> {text_no_link}\")\n",
    "print()\n",
    "print(f\"remove line breaks: \\n{test_str} -> {text_no_lineBreak}\")\n",
    "print()\n",
    "print(f\"remove others: \\n{test_str} -> {text_no_others}\")"
   ]
  },
  {
   "cell_type": "code",
   "execution_count": 18,
   "id": "baea37df",
   "metadata": {},
   "outputs": [
    {
     "name": "stdout",
     "output_type": "stream",
     "text": [
      "Original text: Suspected serial arsonist arrested in Calif. http://t.co/PzotPDGAkI\n",
      "Cleaned text: Suspected serial arsonist arrested in Calif. \n"
     ]
    }
   ],
   "source": [
    " def clean_text(text):\n",
    "    text = re.sub(r'https?://\\S+' , '' , text) #remove Link\n",
    "    text = re.sub(r'\\n' , ' ' , text) #remove line breaks\n",
    "    text = re.sub('\\s+' , ' ' , text) #remove leading , trailing and extra spaces\n",
    "    return text\n",
    "print(\"Original text: \" + test_str)\n",
    "print(\"Cleaned text: \" + clean_text(test_str))"
   ]
  },
  {
   "cell_type": "markdown",
   "id": "73b48853",
   "metadata": {},
   "source": [
    "截取一些抽取hashtage、mentions、link等的文字信息"
   ]
  },
  {
   "cell_type": "code",
   "execution_count": 19,
   "id": "9b31f495",
   "metadata": {},
   "outputs": [
    {
     "name": "stdout",
     "output_type": "stream",
     "text": [
      "match : <re.Match object; span=(0, 8), match='#raining'>\n",
      "match.group(0) : #raining\n",
      "match.group(0)[1:] : raining\n",
      "-------------------------------------------\n",
      "match : <re.Match object; span=(9, 18), match='#flooding'>\n",
      "match.group(0) : #flooding\n",
      "match.group(0)[1:] : flooding\n",
      "-------------------------------------------\n",
      "match : <re.Match object; span=(19, 27), match='#Florida'>\n",
      "match.group(0) : #Florida\n",
      "match.group(0)[1:] : Florida\n",
      "-------------------------------------------\n",
      "match : <re.Match object; span=(28, 37), match='#TampaBay'>\n",
      "match.group(0) : #TampaBay\n",
      "match.group(0)[1:] : TampaBay\n",
      "-------------------------------------------\n",
      "match : <re.Match object; span=(38, 44), match='#Tampa'>\n",
      "match.group(0) : #Tampa\n",
      "match.group(0)[1:] : Tampa\n",
      "-------------------------------------------\n"
     ]
    }
   ],
   "source": [
    "for match in re.finditer(r'#\\w+' , train.loc[12 , \"text\"]):\n",
    "    print(f'match : {match}')\n",
    "    print(f'match.group(0) : {match.group(0)}')\n",
    "    print(f'match.group(0)[1:] : {match.group(0)[1:]}')\n",
    "    print('-------------------------------------------')\n",
    "    "
   ]
  },
  {
   "cell_type": "code",
   "execution_count": 20,
   "id": "711622e3",
   "metadata": {},
   "outputs": [],
   "source": [
    "def find_hashtags(tweet):\n",
    "    return \" \".join([match.group(0)[1:] for match in re.finditer(r'#\\w+' , tweet)]) or 'no'\n",
    "\n",
    "def find_mentions(tweet):\n",
    "    return \" \".join([match.group(0)[1:] for match in re.finditer(r\"@\\w+\" , tweet)]) or 'no'\n",
    "\n",
    "def find_links(tweet):\n",
    "    return \" \".join([match.group(0)[:] for match in re.finditer(r\"https?://\\S+\", tweet)]) or 'no'\n",
    "\n",
    "def process_text(df):\n",
    "    df['text_clean'] = df['text'].apply(lambda x: clean_text(x))\n",
    "    df['hashtags'] = df['text'].apply(lambda x: find_hashtags(x))\n",
    "    df['mentions'] = df['text'].apply(lambda x: find_mentions(x))\n",
    "    df['links'] = df['text'].apply(lambda x: find_links(x))\n",
    "    df['hashtags'].fillna(value='no', inplace=True)\n",
    "    df['mentions'].fillna(value='no', inplace=True)\n",
    "    return df\n",
    "\n",
    "train = process_text(train)\n",
    "test = process_text(test)"
   ]
  },
  {
   "cell_type": "code",
   "execution_count": 21,
   "id": "7b7c1fe9",
   "metadata": {},
   "outputs": [
    {
     "data": {
      "text/html": [
       "<div>\n",
       "<style scoped>\n",
       "    .dataframe tbody tr th:only-of-type {\n",
       "        vertical-align: middle;\n",
       "    }\n",
       "\n",
       "    .dataframe tbody tr th {\n",
       "        vertical-align: top;\n",
       "    }\n",
       "\n",
       "    .dataframe thead th {\n",
       "        text-align: right;\n",
       "    }\n",
       "</style>\n",
       "<table border=\"1\" class=\"dataframe\">\n",
       "  <thead>\n",
       "    <tr style=\"text-align: right;\">\n",
       "      <th></th>\n",
       "      <th>id</th>\n",
       "      <th>keyword</th>\n",
       "      <th>location</th>\n",
       "      <th>text</th>\n",
       "      <th>target</th>\n",
       "      <th>location_clean</th>\n",
       "      <th>text_clean</th>\n",
       "      <th>hashtags</th>\n",
       "      <th>mentions</th>\n",
       "      <th>links</th>\n",
       "    </tr>\n",
       "  </thead>\n",
       "  <tbody>\n",
       "    <tr>\n",
       "      <th>0</th>\n",
       "      <td>1</td>\n",
       "      <td>None</td>\n",
       "      <td>None</td>\n",
       "      <td>Our Deeds are the Reason of this #earthquake M...</td>\n",
       "      <td>1</td>\n",
       "      <td>None</td>\n",
       "      <td>Our Deeds are the Reason of this #earthquake M...</td>\n",
       "      <td>earthquake</td>\n",
       "      <td>no</td>\n",
       "      <td>no</td>\n",
       "    </tr>\n",
       "    <tr>\n",
       "      <th>1</th>\n",
       "      <td>4</td>\n",
       "      <td>None</td>\n",
       "      <td>None</td>\n",
       "      <td>Forest fire near La Ronge Sask. Canada</td>\n",
       "      <td>1</td>\n",
       "      <td>None</td>\n",
       "      <td>Forest fire near La Ronge Sask. Canada</td>\n",
       "      <td>no</td>\n",
       "      <td>no</td>\n",
       "      <td>no</td>\n",
       "    </tr>\n",
       "    <tr>\n",
       "      <th>2</th>\n",
       "      <td>5</td>\n",
       "      <td>None</td>\n",
       "      <td>None</td>\n",
       "      <td>All residents asked to 'shelter in place' are ...</td>\n",
       "      <td>1</td>\n",
       "      <td>None</td>\n",
       "      <td>All residents asked to 'shelter in place' are ...</td>\n",
       "      <td>no</td>\n",
       "      <td>no</td>\n",
       "      <td>no</td>\n",
       "    </tr>\n",
       "    <tr>\n",
       "      <th>3</th>\n",
       "      <td>6</td>\n",
       "      <td>None</td>\n",
       "      <td>None</td>\n",
       "      <td>13,000 people receive #wildfires evacuation or...</td>\n",
       "      <td>1</td>\n",
       "      <td>None</td>\n",
       "      <td>13,000 people receive #wildfires evacuation or...</td>\n",
       "      <td>wildfires</td>\n",
       "      <td>no</td>\n",
       "      <td>no</td>\n",
       "    </tr>\n",
       "    <tr>\n",
       "      <th>4</th>\n",
       "      <td>7</td>\n",
       "      <td>None</td>\n",
       "      <td>None</td>\n",
       "      <td>Just got sent this photo from Ruby #Alaska as ...</td>\n",
       "      <td>1</td>\n",
       "      <td>None</td>\n",
       "      <td>Just got sent this photo from Ruby #Alaska as ...</td>\n",
       "      <td>Alaska wildfires</td>\n",
       "      <td>no</td>\n",
       "      <td>no</td>\n",
       "    </tr>\n",
       "    <tr>\n",
       "      <th>...</th>\n",
       "      <td>...</td>\n",
       "      <td>...</td>\n",
       "      <td>...</td>\n",
       "      <td>...</td>\n",
       "      <td>...</td>\n",
       "      <td>...</td>\n",
       "      <td>...</td>\n",
       "      <td>...</td>\n",
       "      <td>...</td>\n",
       "      <td>...</td>\n",
       "    </tr>\n",
       "    <tr>\n",
       "      <th>7608</th>\n",
       "      <td>10869</td>\n",
       "      <td>None</td>\n",
       "      <td>None</td>\n",
       "      <td>Two giant cranes holding a bridge collapse int...</td>\n",
       "      <td>1</td>\n",
       "      <td>None</td>\n",
       "      <td>Two giant cranes holding a bridge collapse int...</td>\n",
       "      <td>no</td>\n",
       "      <td>no</td>\n",
       "      <td>http://t.co/STfMbbZFB5</td>\n",
       "    </tr>\n",
       "    <tr>\n",
       "      <th>7609</th>\n",
       "      <td>10870</td>\n",
       "      <td>None</td>\n",
       "      <td>None</td>\n",
       "      <td>@aria_ahrary @TheTawniest The out of control w...</td>\n",
       "      <td>1</td>\n",
       "      <td>None</td>\n",
       "      <td>@aria_ahrary @TheTawniest The out of control w...</td>\n",
       "      <td>no</td>\n",
       "      <td>aria_ahrary TheTawniest</td>\n",
       "      <td>no</td>\n",
       "    </tr>\n",
       "    <tr>\n",
       "      <th>7610</th>\n",
       "      <td>10871</td>\n",
       "      <td>None</td>\n",
       "      <td>None</td>\n",
       "      <td>M1.94 [01:04 UTC]?5km S of Volcano Hawaii. htt...</td>\n",
       "      <td>1</td>\n",
       "      <td>None</td>\n",
       "      <td>M1.94 [01:04 UTC]?5km S of Volcano Hawaii.</td>\n",
       "      <td>no</td>\n",
       "      <td>no</td>\n",
       "      <td>http://t.co/zDtoyd8EbJ</td>\n",
       "    </tr>\n",
       "    <tr>\n",
       "      <th>7611</th>\n",
       "      <td>10872</td>\n",
       "      <td>None</td>\n",
       "      <td>None</td>\n",
       "      <td>Police investigating after an e-bike collided ...</td>\n",
       "      <td>1</td>\n",
       "      <td>None</td>\n",
       "      <td>Police investigating after an e-bike collided ...</td>\n",
       "      <td>no</td>\n",
       "      <td>no</td>\n",
       "      <td>no</td>\n",
       "    </tr>\n",
       "    <tr>\n",
       "      <th>7612</th>\n",
       "      <td>10873</td>\n",
       "      <td>None</td>\n",
       "      <td>None</td>\n",
       "      <td>The Latest: More Homes Razed by Northern Calif...</td>\n",
       "      <td>1</td>\n",
       "      <td>None</td>\n",
       "      <td>The Latest: More Homes Razed by Northern Calif...</td>\n",
       "      <td>no</td>\n",
       "      <td>no</td>\n",
       "      <td>http://t.co/YmY4rSkQ3d</td>\n",
       "    </tr>\n",
       "  </tbody>\n",
       "</table>\n",
       "<p>7613 rows × 10 columns</p>\n",
       "</div>"
      ],
      "text/plain": [
       "         id keyword location  \\\n",
       "0         1    None     None   \n",
       "1         4    None     None   \n",
       "2         5    None     None   \n",
       "3         6    None     None   \n",
       "4         7    None     None   \n",
       "...     ...     ...      ...   \n",
       "7608  10869    None     None   \n",
       "7609  10870    None     None   \n",
       "7610  10871    None     None   \n",
       "7611  10872    None     None   \n",
       "7612  10873    None     None   \n",
       "\n",
       "                                                   text  target  \\\n",
       "0     Our Deeds are the Reason of this #earthquake M...       1   \n",
       "1                Forest fire near La Ronge Sask. Canada       1   \n",
       "2     All residents asked to 'shelter in place' are ...       1   \n",
       "3     13,000 people receive #wildfires evacuation or...       1   \n",
       "4     Just got sent this photo from Ruby #Alaska as ...       1   \n",
       "...                                                 ...     ...   \n",
       "7608  Two giant cranes holding a bridge collapse int...       1   \n",
       "7609  @aria_ahrary @TheTawniest The out of control w...       1   \n",
       "7610  M1.94 [01:04 UTC]?5km S of Volcano Hawaii. htt...       1   \n",
       "7611  Police investigating after an e-bike collided ...       1   \n",
       "7612  The Latest: More Homes Razed by Northern Calif...       1   \n",
       "\n",
       "     location_clean                                         text_clean  \\\n",
       "0              None  Our Deeds are the Reason of this #earthquake M...   \n",
       "1              None             Forest fire near La Ronge Sask. Canada   \n",
       "2              None  All residents asked to 'shelter in place' are ...   \n",
       "3              None  13,000 people receive #wildfires evacuation or...   \n",
       "4              None  Just got sent this photo from Ruby #Alaska as ...   \n",
       "...             ...                                                ...   \n",
       "7608           None  Two giant cranes holding a bridge collapse int...   \n",
       "7609           None  @aria_ahrary @TheTawniest The out of control w...   \n",
       "7610           None        M1.94 [01:04 UTC]?5km S of Volcano Hawaii.    \n",
       "7611           None  Police investigating after an e-bike collided ...   \n",
       "7612           None  The Latest: More Homes Razed by Northern Calif...   \n",
       "\n",
       "              hashtags                 mentions                   links  \n",
       "0           earthquake                       no                      no  \n",
       "1                   no                       no                      no  \n",
       "2                   no                       no                      no  \n",
       "3            wildfires                       no                      no  \n",
       "4     Alaska wildfires                       no                      no  \n",
       "...                ...                      ...                     ...  \n",
       "7608                no                       no  http://t.co/STfMbbZFB5  \n",
       "7609                no  aria_ahrary TheTawniest                      no  \n",
       "7610                no                       no  http://t.co/zDtoyd8EbJ  \n",
       "7611                no                       no                      no  \n",
       "7612                no                       no  http://t.co/YmY4rSkQ3d  \n",
       "\n",
       "[7613 rows x 10 columns]"
      ]
     },
     "execution_count": 21,
     "metadata": {},
     "output_type": "execute_result"
    }
   ],
   "source": [
    "train"
   ]
  },
  {
   "cell_type": "markdown",
   "id": "d41c97e9",
   "metadata": {},
   "source": [
    "设置template转化所有特征为一句话"
   ]
  },
  {
   "cell_type": "code",
   "execution_count": 22,
   "id": "4934df7e",
   "metadata": {},
   "outputs": [],
   "source": [
    "train[\"combind_text\"] = train.apply(lambda row: \"Published in \" + row[\"location_clean\"] +\\\n",
    "                                                    \", the text says : \" + row[\"text_clean\"] +\\\n",
    "                                                    \", with the tags : \" + row[\"hashtags\"] +\\\n",
    "                                                    \", the mentions : \" + row[\"mentions\"] +\\\n",
    "                                                    \", and the link : \" + row[\"links\"] , axis=1)\n",
    "test[\"combind_text\"] = test.apply(lambda row: \"Published in \" + row[\"location_clean\"] +\\\n",
    "                                                    \", the text says : \" + row[\"text_clean\"] +\\\n",
    "                                                    \", with the tags : \" + row[\"hashtags\"] +\\\n",
    "                                                    \", the mentions : \" + row[\"mentions\"] +\\\n",
    "                                                    \", and the link : \" + row[\"links\"] , axis=1)"
   ]
  },
  {
   "cell_type": "code",
   "execution_count": 23,
   "id": "17b7dda1",
   "metadata": {},
   "outputs": [
    {
     "name": "stdout",
     "output_type": "stream",
     "text": [
      "Published in None, the text says : Our Deeds are the Reason of this #earthquake May ALLAH Forgive us all, with the tags : earthquake, the mentions : no, and the link : no\n"
     ]
    }
   ],
   "source": [
    "print(train.loc[0 , \"combind_text\"])"
   ]
  },
  {
   "cell_type": "code",
   "execution_count": 24,
   "id": "edf02553",
   "metadata": {},
   "outputs": [],
   "source": [
    "train[[\"combind_text\",\"target\"]].to_csv(\"train_data.csv\" , index=False)\n",
    "test[\"combind_text\"].to_csv(\"test_data.csv\" , index=False)"
   ]
  },
  {
   "cell_type": "markdown",
   "id": "7c6c1950",
   "metadata": {},
   "source": [
    "### 开始使用RoBERTa"
   ]
  },
  {
   "cell_type": "markdown",
   "id": "547a73fa",
   "metadata": {},
   "source": [
    "读取数据"
   ]
  },
  {
   "cell_type": "code",
   "execution_count": 25,
   "id": "054aa0be",
   "metadata": {},
   "outputs": [
    {
     "name": "stderr",
     "output_type": "stream",
     "text": [
      "Using custom data configuration default-704543df14ffd6aa\n"
     ]
    },
    {
     "name": "stdout",
     "output_type": "stream",
     "text": [
      "Downloading and preparing dataset csv/default to /root/.cache/huggingface/datasets/csv/default-704543df14ffd6aa/0.0.0/6b34fb8fcf56f7c8ba51dc895bfa2bfbe43546f190a60fcf74bb5e8afdcc2317...\n"
     ]
    },
    {
     "data": {
      "application/vnd.jupyter.widget-view+json": {
       "model_id": "31f9d646022741e4adda828355ac55d2",
       "version_major": 2,
       "version_minor": 0
      },
      "text/plain": [
       "Downloading data files:   0%|          | 0/1 [00:00<?, ?it/s]"
      ]
     },
     "metadata": {},
     "output_type": "display_data"
    },
    {
     "data": {
      "application/vnd.jupyter.widget-view+json": {
       "model_id": "23854631b188409ca356ef51965b9d91",
       "version_major": 2,
       "version_minor": 0
      },
      "text/plain": [
       "Extracting data files:   0%|          | 0/1 [00:00<?, ?it/s]"
      ]
     },
     "metadata": {},
     "output_type": "display_data"
    },
    {
     "data": {
      "application/vnd.jupyter.widget-view+json": {
       "model_id": "",
       "version_major": 2,
       "version_minor": 0
      },
      "text/plain": [
       "Generating train split: 0 examples [00:00, ? examples/s]"
      ]
     },
     "metadata": {},
     "output_type": "display_data"
    },
    {
     "name": "stdout",
     "output_type": "stream",
     "text": [
      "Dataset csv downloaded and prepared to /root/.cache/huggingface/datasets/csv/default-704543df14ffd6aa/0.0.0/6b34fb8fcf56f7c8ba51dc895bfa2bfbe43546f190a60fcf74bb5e8afdcc2317. Subsequent calls will reuse this data.\n"
     ]
    },
    {
     "name": "stderr",
     "output_type": "stream",
     "text": [
      "/root/miniconda3/lib/python3.8/site-packages/datasets/download/streaming_download_manager.py:714: FutureWarning: the 'mangle_dupe_cols' keyword is deprecated and will be removed in a future version. Please take steps to stop the use of 'mangle_dupe_cols'\n",
      "  return pd.read_csv(xopen(filepath_or_buffer, \"rb\", use_auth_token=use_auth_token), **kwargs)\n"
     ]
    },
    {
     "data": {
      "application/vnd.jupyter.widget-view+json": {
       "model_id": "a25725bf7eae4758a03cdb236997af31",
       "version_major": 2,
       "version_minor": 0
      },
      "text/plain": [
       "  0%|          | 0/1 [00:00<?, ?it/s]"
      ]
     },
     "metadata": {},
     "output_type": "display_data"
    },
    {
     "data": {
      "text/plain": [
       "Dataset({\n",
       "    features: ['combind_text', 'target'],\n",
       "    num_rows: 7613\n",
       "})"
      ]
     },
     "execution_count": 25,
     "metadata": {},
     "output_type": "execute_result"
    }
   ],
   "source": [
    "from datasets import load_dataset, Dataset\n",
    "mydata = load_dataset(\"csv\" , data_files=\"./train_data.csv\")[\"train\"]\n",
    "mydata"
   ]
  },
  {
   "cell_type": "code",
   "execution_count": 26,
   "id": "0e9f72dc",
   "metadata": {},
   "outputs": [
    {
     "data": {
      "text/plain": [
       "DatasetDict({\n",
       "    train: Dataset({\n",
       "        features: ['combind_text', 'target'],\n",
       "        num_rows: 6851\n",
       "    })\n",
       "    test: Dataset({\n",
       "        features: ['combind_text', 'target'],\n",
       "        num_rows: 762\n",
       "    })\n",
       "})"
      ]
     },
     "execution_count": 26,
     "metadata": {},
     "output_type": "execute_result"
    }
   ],
   "source": [
    "mydata = mydata.train_test_split(test_size=0.1)\n",
    "mydata"
   ]
  },
  {
   "cell_type": "code",
   "execution_count": 27,
   "id": "20b9d810",
   "metadata": {},
   "outputs": [
    {
     "data": {
      "text/plain": [
       "PreTrainedTokenizerFast(name_or_path='roberta-base', vocab_size=50265, model_max_len=512, is_fast=True, padding_side='right', truncation_side='right', special_tokens={'bos_token': '<s>', 'eos_token': '</s>', 'unk_token': '<unk>', 'sep_token': '</s>', 'pad_token': '<pad>', 'cls_token': '<s>', 'mask_token': AddedToken(\"<mask>\", rstrip=False, lstrip=True, single_word=False, normalized=False)})"
      ]
     },
     "execution_count": 27,
     "metadata": {},
     "output_type": "execute_result"
    }
   ],
   "source": [
    "from transformers import AutoTokenizer\n",
    "tokenizer = AutoTokenizer.from_pretrained(\"roberta-base\")\n",
    "tokenizer"
   ]
  },
  {
   "cell_type": "code",
   "execution_count": 28,
   "id": "d2b4293a",
   "metadata": {},
   "outputs": [
    {
     "data": {
      "application/vnd.jupyter.widget-view+json": {
       "model_id": "bdcf163e8a06405fa52d5d8d0cdeaa66",
       "version_major": 2,
       "version_minor": 0
      },
      "text/plain": [
       "  0%|          | 0/7 [00:00<?, ?ba/s]"
      ]
     },
     "metadata": {},
     "output_type": "display_data"
    },
    {
     "data": {
      "application/vnd.jupyter.widget-view+json": {
       "model_id": "fa7293dcbd614b1685eef44d25bf8594",
       "version_major": 2,
       "version_minor": 0
      },
      "text/plain": [
       "  0%|          | 0/1 [00:00<?, ?ba/s]"
      ]
     },
     "metadata": {},
     "output_type": "display_data"
    },
    {
     "data": {
      "text/plain": [
       "DatasetDict({\n",
       "    train: Dataset({\n",
       "        features: ['combind_text', 'target', 'input_ids', 'attention_mask'],\n",
       "        num_rows: 6851\n",
       "    })\n",
       "    test: Dataset({\n",
       "        features: ['combind_text', 'target', 'input_ids', 'attention_mask'],\n",
       "        num_rows: 762\n",
       "    })\n",
       "})"
      ]
     },
     "execution_count": 28,
     "metadata": {},
     "output_type": "execute_result"
    }
   ],
   "source": [
    "def tokenize(example):\n",
    "    return tokenizer(example[\"combind_text\"], truncation=True)\n",
    "md = mydata.map(tokenize, batched=True)\n",
    "md"
   ]
  },
  {
   "cell_type": "code",
   "execution_count": 29,
   "id": "3b3cfe6f",
   "metadata": {
    "collapsed": true,
    "jupyter": {
     "outputs_hidden": true
    },
    "tags": []
   },
   "outputs": [
    {
     "data": {
      "text/plain": [
       "{'combind_text': 'Published in None, the text says : My first staining attempt was a disaster , with the tags : no, the mentions : no, and the link : https://t.co/buDmKE3nNf',\n",
       " 'target': 0,\n",
       " 'input_ids': [0,\n",
       "  29642,\n",
       "  11,\n",
       "  9291,\n",
       "  6,\n",
       "  5,\n",
       "  2788,\n",
       "  161,\n",
       "  4832,\n",
       "  1308,\n",
       "  78,\n",
       "  1690,\n",
       "  8173,\n",
       "  2120,\n",
       "  21,\n",
       "  10,\n",
       "  4463,\n",
       "  2156,\n",
       "  19,\n",
       "  5,\n",
       "  19445,\n",
       "  4832,\n",
       "  117,\n",
       "  6,\n",
       "  5,\n",
       "  19197,\n",
       "  4832,\n",
       "  117,\n",
       "  6,\n",
       "  8,\n",
       "  5,\n",
       "  3104,\n",
       "  4832,\n",
       "  1205,\n",
       "  640,\n",
       "  90,\n",
       "  4,\n",
       "  876,\n",
       "  73,\n",
       "  9519,\n",
       "  495,\n",
       "  119,\n",
       "  6961,\n",
       "  246,\n",
       "  282,\n",
       "  487,\n",
       "  506,\n",
       "  2],\n",
       " 'attention_mask': [1,\n",
       "  1,\n",
       "  1,\n",
       "  1,\n",
       "  1,\n",
       "  1,\n",
       "  1,\n",
       "  1,\n",
       "  1,\n",
       "  1,\n",
       "  1,\n",
       "  1,\n",
       "  1,\n",
       "  1,\n",
       "  1,\n",
       "  1,\n",
       "  1,\n",
       "  1,\n",
       "  1,\n",
       "  1,\n",
       "  1,\n",
       "  1,\n",
       "  1,\n",
       "  1,\n",
       "  1,\n",
       "  1,\n",
       "  1,\n",
       "  1,\n",
       "  1,\n",
       "  1,\n",
       "  1,\n",
       "  1,\n",
       "  1,\n",
       "  1,\n",
       "  1,\n",
       "  1,\n",
       "  1,\n",
       "  1,\n",
       "  1,\n",
       "  1,\n",
       "  1,\n",
       "  1,\n",
       "  1,\n",
       "  1,\n",
       "  1,\n",
       "  1,\n",
       "  1,\n",
       "  1]}"
      ]
     },
     "execution_count": 29,
     "metadata": {},
     "output_type": "execute_result"
    }
   ],
   "source": [
    "md[\"train\"][0]"
   ]
  },
  {
   "cell_type": "code",
   "execution_count": 30,
   "id": "32245721",
   "metadata": {},
   "outputs": [],
   "source": [
    "train_data = md[\"train\"]\n",
    "test_data = md[\"test\"]\n",
    "#已经有了input_ids了，不需要文本信息了，顺便改一下target的列名\n",
    "train_data = train_data.remove_columns([\"combind_text\"]).rename_column('target', \"labels\").with_format(\"torch\")\n",
    "test_data = test_data.remove_columns([\"combind_text\"]).rename_column('target', \"labels\").with_format(\"torch\")"
   ]
  },
  {
   "cell_type": "code",
   "execution_count": 31,
   "id": "2a477b86",
   "metadata": {},
   "outputs": [
    {
     "data": {
      "text/plain": [
       "Dataset({\n",
       "    features: ['labels', 'input_ids', 'attention_mask'],\n",
       "    num_rows: 6851\n",
       "})"
      ]
     },
     "execution_count": 31,
     "metadata": {},
     "output_type": "execute_result"
    }
   ],
   "source": [
    "train_data"
   ]
  },
  {
   "cell_type": "markdown",
   "id": "c92b7a2c",
   "metadata": {},
   "source": [
    "包装batch"
   ]
  },
  {
   "cell_type": "code",
   "execution_count": 42,
   "id": "37e5ce56",
   "metadata": {},
   "outputs": [],
   "source": [
    "from transformers import DataCollatorWithPadding\n",
    "from torch.utils.data import DataLoader\n",
    "\n",
    "datacol = DataCollatorWithPadding(tokenizer)\n",
    "trainloader = DataLoader(train_data , \n",
    "                         batch_size=32 , \n",
    "                         shuffle=True , \n",
    "                         collate_fn=datacol)\n",
    "testloader = DataLoader(test_data, batch_size=32, collate_fn=datacol)"
   ]
  },
  {
   "cell_type": "code",
   "execution_count": 33,
   "id": "461e2bbf",
   "metadata": {},
   "outputs": [
    {
     "data": {
      "text/plain": [
       "<torch.utils.data.dataloader.DataLoader at 0x7f4081889ac0>"
      ]
     },
     "execution_count": 33,
     "metadata": {},
     "output_type": "execute_result"
    }
   ],
   "source": [
    "trainloader"
   ]
  },
  {
   "cell_type": "code",
   "execution_count": 34,
   "id": "d6108519",
   "metadata": {
    "tags": []
   },
   "outputs": [
    {
     "name": "stdout",
     "output_type": "stream",
     "text": [
      "huggingface/tokenizers: The current process just got forked, after parallelism has already been used. Disabling parallelism to avoid deadlocks...\n",
      "To disable this warning, you can either:\n",
      "\t- Avoid using `tokenizers` before the fork if possible\n",
      "\t- Explicitly set the environment variable TOKENIZERS_PARALLELISM=(true | false)\n",
      "Looking in indexes: https://repo.huaweicloud.com/repository/pypi/simple\n",
      "Requirement already satisfied: accelerate in /root/miniconda3/lib/python3.8/site-packages (0.14.0)\n",
      "Requirement already satisfied: pyyaml in /root/miniconda3/lib/python3.8/site-packages (from accelerate) (6.0)\n",
      "Requirement already satisfied: psutil in /root/miniconda3/lib/python3.8/site-packages (from accelerate) (5.9.1)\n",
      "Requirement already satisfied: torch>=1.4.0 in /root/miniconda3/lib/python3.8/site-packages (from accelerate) (1.11.0+cu113)\n",
      "Requirement already satisfied: numpy>=1.17 in /root/miniconda3/lib/python3.8/site-packages (from accelerate) (1.22.4)\n",
      "Requirement already satisfied: packaging>=20.0 in /root/miniconda3/lib/python3.8/site-packages (from accelerate) (21.3)\n",
      "Requirement already satisfied: pyparsing!=3.0.5,>=2.0.2 in /root/miniconda3/lib/python3.8/site-packages (from packaging>=20.0->accelerate) (3.0.9)\n",
      "Requirement already satisfied: typing-extensions in /root/miniconda3/lib/python3.8/site-packages (from torch>=1.4.0->accelerate) (4.2.0)\n",
      "\u001b[33mWARNING: Running pip as the 'root' user can result in broken permissions and conflicting behaviour with the system package manager. It is recommended to use a virtual environment instead: https://pip.pypa.io/warnings/venv\u001b[0m\n"
     ]
    }
   ],
   "source": [
    "!pip install accelerate"
   ]
  },
  {
   "cell_type": "code",
   "execution_count": 35,
   "id": "a3cec1c1",
   "metadata": {},
   "outputs": [
    {
     "name": "stderr",
     "output_type": "stream",
     "text": [
      "Some weights of the model checkpoint at roberta-base were not used when initializing RobertaForSequenceClassification: ['lm_head.layer_norm.weight', 'roberta.pooler.dense.weight', 'lm_head.layer_norm.bias', 'lm_head.dense.bias', 'roberta.pooler.dense.bias', 'lm_head.dense.weight', 'lm_head.bias', 'lm_head.decoder.weight']\n",
      "- This IS expected if you are initializing RobertaForSequenceClassification from the checkpoint of a model trained on another task or with another architecture (e.g. initializing a BertForSequenceClassification model from a BertForPreTraining model).\n",
      "- This IS NOT expected if you are initializing RobertaForSequenceClassification from the checkpoint of a model that you expect to be exactly identical (initializing a BertForSequenceClassification model from a BertForSequenceClassification model).\n",
      "Some weights of RobertaForSequenceClassification were not initialized from the model checkpoint at roberta-base and are newly initialized: ['classifier.dense.bias', 'classifier.out_proj.weight', 'classifier.dense.weight', 'classifier.out_proj.bias']\n",
      "You should probably TRAIN this model on a down-stream task to be able to use it for predictions and inference.\n"
     ]
    }
   ],
   "source": [
    "from accelerate import Accelerator\n",
    "from transformers import AutoModelForSequenceClassification\n",
    "accelerator = Accelerator()\n",
    "model = AutoModelForSequenceClassification.from_pretrained(\"roberta-base\", num_labels=2)"
   ]
  },
  {
   "cell_type": "code",
   "execution_count": 36,
   "id": "2a43ff55-be09-48b8-af54-2e681ad0b61a",
   "metadata": {},
   "outputs": [
    {
     "name": "stderr",
     "output_type": "stream",
     "text": [
      "/root/miniconda3/lib/python3.8/site-packages/transformers/optimization.py:306: FutureWarning: This implementation of AdamW is deprecated and will be removed in a future version. Use the PyTorch implementation torch.optim.AdamW instead, or set `no_deprecation_warning=True` to disable this warning\n",
      "  warnings.warn(\n"
     ]
    }
   ],
   "source": [
    "from transformers import AdamW\n",
    "optim = AdamW(model.parameters(), lr=5e-5)"
   ]
  },
  {
   "cell_type": "code",
   "execution_count": 37,
   "id": "7b2dc3d1-b8d4-4d63-ab2a-14e3872677bc",
   "metadata": {},
   "outputs": [
    {
     "name": "stdout",
     "output_type": "stream",
     "text": [
      "cuda\n"
     ]
    }
   ],
   "source": [
    "from tqdm.auto import tqdm\n",
    "import torch\n",
    "device = accelerator.device\n",
    "model=model.to(device)\n",
    "print(device)"
   ]
  },
  {
   "cell_type": "code",
   "execution_count": 46,
   "id": "96ce457c-8ea4-47f8-8904-d2b4c57acc77",
   "metadata": {
    "tags": []
   },
   "outputs": [
    {
     "name": "stderr",
     "output_type": "stream",
     "text": [
      "Using the latest cached version of the module from /root/.cache/huggingface/modules/datasets_modules/metrics/f1/1ae7ede7c974ce472c931da73bdb2e3f0e1044a996d2348b328773d44dd1847b (last modified on Tue Jan 10 02:36:43 2023) since it couldn't be found locally at f1, or remotely on the Hugging Face Hub.\n"
     ]
    },
    {
     "data": {
      "application/vnd.jupyter.widget-view+json": {
       "model_id": "c8aa448e4fc54d6a86d19054ae7d118b",
       "version_major": 2,
       "version_minor": 0
      },
      "text/plain": [
       "Downloading builder script:   0%|          | 0.00/1.65k [00:00<?, ?B/s]"
      ]
     },
     "metadata": {},
     "output_type": "display_data"
    }
   ],
   "source": [
    "from datasets import load_metric\n",
    "f1 = load_metric(\"f1\")\n",
    "acc = load_metric(\"accuracy\")"
   ]
  },
  {
   "cell_type": "code",
   "execution_count": 45,
   "id": "c870cccc-74a5-42d0-abdb-c0f8b4883f90",
   "metadata": {},
   "outputs": [],
   "source": [
    "model, optimizer, trainloader = accelerator.prepare(model, optim, trainloader)\n",
    "testloader = accelerator.prepare(testloader)"
   ]
  },
  {
   "cell_type": "markdown",
   "id": "448d821f-6b25-462d-9e3a-7c0498f62b54",
   "metadata": {},
   "source": [
    "验证函数"
   ]
  },
  {
   "cell_type": "code",
   "execution_count": 47,
   "id": "36581380-b775-4640-bcfb-cd3006794936",
   "metadata": {},
   "outputs": [],
   "source": [
    "def validate(model):\n",
    "    for batch in testloader:\n",
    "        #batch = {k:v.cuda() for k,v in batch.items()}\n",
    "        outputs = model(**batch)\n",
    "        predictions=torch.argmax(outputs.logits, dim=-1)\n",
    "        #f1.add_batch(predictions=predictions, references=batch[\"labels\"])\n",
    "        f1.add_batch(predictions=accelerator.gather(predictions), references=accelerator.gather(batch[\"labels\"]))\n",
    "        #acc.add_batch(predictions=predictions, references=batch[\"labels\"])\n",
    "        acc.add_batch(predictions=accelerator.gather(predictions), references=accelerator.gather(batch[\"labels\"]))\n",
    "    acc_res = acc.compute()[\"accuracy\"]\n",
    "    print(f\"Validation Accuracy: {acc_res:.2f}\")\n",
    "    f_res = f1.compute()[\"f1\"]\n",
    "    print(f\"Validation F1-score: {f_res:.2f}\")\n",
    "    return acc_res"
   ]
  },
  {
   "cell_type": "markdown",
   "id": "23b82e45-681e-48d1-8060-690f824a6989",
   "metadata": {},
   "source": [
    "训练函数"
   ]
  },
  {
   "cell_type": "code",
   "execution_count": 48,
   "id": "827d8872-c33c-4ba1-90b3-2f04cb39c0f2",
   "metadata": {},
   "outputs": [
    {
     "name": "stdout",
     "output_type": "stream",
     "text": [
      "epoch n°1:\n"
     ]
    },
    {
     "data": {
      "application/vnd.jupyter.widget-view+json": {
       "model_id": "a9862d874e124df3978ab4bd06741ba1",
       "version_major": 2,
       "version_minor": 0
      },
      "text/plain": [
       "  0%|          | 0/214 [00:00<?, ?it/s]"
      ]
     },
     "metadata": {},
     "output_type": "display_data"
    },
    {
     "name": "stderr",
     "output_type": "stream",
     "text": [
      "You're using a RobertaTokenizerFast tokenizer. Please note that with a fast tokenizer, using the `__call__` method is faster than using a method to encode the text followed by a call to the `pad` method to get a padded encoding.\n"
     ]
    },
    {
     "name": "stdout",
     "output_type": "stream",
     "text": [
      "Training Loss:  0.48\n",
      "Training Accuracy: 0.80\n",
      "Training F1-score: 0.74\n",
      "Validation Accuracy: 0.85\n",
      "Validation F1-score: 0.80\n",
      "Achieved best validation accuracy so far. Saving model.\n",
      "\n",
      "\n",
      "\n",
      "epoch n°2:\n"
     ]
    },
    {
     "data": {
      "application/vnd.jupyter.widget-view+json": {
       "model_id": "c38336cbb1434550b02fce1cc53360cd",
       "version_major": 2,
       "version_minor": 0
      },
      "text/plain": [
       "  0%|          | 0/214 [00:00<?, ?it/s]"
      ]
     },
     "metadata": {},
     "output_type": "display_data"
    },
    {
     "name": "stdout",
     "output_type": "stream",
     "text": [
      "Training Loss:  0.37\n",
      "Training Accuracy: 0.85\n",
      "Training F1-score: 0.82\n",
      "Validation Accuracy: 0.86\n",
      "Validation F1-score: 0.82\n",
      "Achieved best validation accuracy so far. Saving model.\n",
      "\n",
      "\n",
      "\n",
      "epoch n°3:\n"
     ]
    },
    {
     "data": {
      "application/vnd.jupyter.widget-view+json": {
       "model_id": "64b97e1ac9c240d3a33b05b3312d8319",
       "version_major": 2,
       "version_minor": 0
      },
      "text/plain": [
       "  0%|          | 0/214 [00:00<?, ?it/s]"
      ]
     },
     "metadata": {},
     "output_type": "display_data"
    },
    {
     "name": "stdout",
     "output_type": "stream",
     "text": [
      "Training Loss:  0.32\n",
      "Training Accuracy: 0.88\n",
      "Training F1-score: 0.85\n",
      "Validation Accuracy: 0.86\n",
      "Validation F1-score: 0.82\n",
      "Achieved best validation accuracy so far. Saving model.\n",
      "\n",
      "\n",
      "\n",
      "epoch n°4:\n"
     ]
    },
    {
     "data": {
      "application/vnd.jupyter.widget-view+json": {
       "model_id": "144a1ceefef849189c994cd52d160eaa",
       "version_major": 2,
       "version_minor": 0
      },
      "text/plain": [
       "  0%|          | 0/214 [00:00<?, ?it/s]"
      ]
     },
     "metadata": {},
     "output_type": "display_data"
    },
    {
     "name": "stdout",
     "output_type": "stream",
     "text": [
      "Training Loss:  0.26\n",
      "Training Accuracy: 0.90\n",
      "Training F1-score: 0.88\n",
      "Validation Accuracy: 0.84\n",
      "Validation F1-score: 0.79\n",
      "\n",
      "\n",
      "\n",
      "epoch n°5:\n"
     ]
    },
    {
     "data": {
      "application/vnd.jupyter.widget-view+json": {
       "model_id": "31a45971b3704106a003b2f0676f8ab8",
       "version_major": 2,
       "version_minor": 0
      },
      "text/plain": [
       "  0%|          | 0/214 [00:00<?, ?it/s]"
      ]
     },
     "metadata": {},
     "output_type": "display_data"
    },
    {
     "name": "stdout",
     "output_type": "stream",
     "text": [
      "Training Loss:  0.21\n",
      "Training Accuracy: 0.93\n",
      "Training F1-score: 0.91\n",
      "Validation Accuracy: 0.85\n",
      "Validation F1-score: 0.80\n",
      "\n",
      "\n",
      "\n",
      "epoch n°6:\n"
     ]
    },
    {
     "data": {
      "application/vnd.jupyter.widget-view+json": {
       "model_id": "2b927c934f83451388ed93f22d271119",
       "version_major": 2,
       "version_minor": 0
      },
      "text/plain": [
       "  0%|          | 0/214 [00:00<?, ?it/s]"
      ]
     },
     "metadata": {},
     "output_type": "display_data"
    },
    {
     "name": "stdout",
     "output_type": "stream",
     "text": [
      "Training Loss:  0.17\n",
      "Training Accuracy: 0.94\n",
      "Training F1-score: 0.93\n",
      "Validation Accuracy: 0.83\n",
      "Validation F1-score: 0.78\n",
      "\n",
      "\n",
      "\n",
      "epoch n°7:\n"
     ]
    },
    {
     "data": {
      "application/vnd.jupyter.widget-view+json": {
       "model_id": "3b3fe0101755450e8630fb817dd1a4be",
       "version_major": 2,
       "version_minor": 0
      },
      "text/plain": [
       "  0%|          | 0/214 [00:00<?, ?it/s]"
      ]
     },
     "metadata": {},
     "output_type": "display_data"
    },
    {
     "name": "stdout",
     "output_type": "stream",
     "text": [
      "Training Loss:  0.14\n",
      "Training Accuracy: 0.95\n",
      "Training F1-score: 0.94\n",
      "Validation Accuracy: 0.81\n",
      "Validation F1-score: 0.78\n",
      "\n",
      "\n",
      "\n",
      "epoch n°8:\n"
     ]
    },
    {
     "data": {
      "application/vnd.jupyter.widget-view+json": {
       "model_id": "98326bc1676b4b7ea889eedaf0ba6967",
       "version_major": 2,
       "version_minor": 0
      },
      "text/plain": [
       "  0%|          | 0/214 [00:00<?, ?it/s]"
      ]
     },
     "metadata": {},
     "output_type": "display_data"
    },
    {
     "name": "stdout",
     "output_type": "stream",
     "text": [
      "Training Loss:  0.12\n",
      "Training Accuracy: 0.96\n",
      "Training F1-score: 0.95\n",
      "Validation Accuracy: 0.79\n",
      "Validation F1-score: 0.77\n",
      "\n",
      "\n",
      "\n",
      "epoch n°9:\n"
     ]
    },
    {
     "data": {
      "application/vnd.jupyter.widget-view+json": {
       "model_id": "656dba22b37b49bcb92a362d9df7f6e3",
       "version_major": 2,
       "version_minor": 0
      },
      "text/plain": [
       "  0%|          | 0/214 [00:00<?, ?it/s]"
      ]
     },
     "metadata": {},
     "output_type": "display_data"
    },
    {
     "name": "stdout",
     "output_type": "stream",
     "text": [
      "Training Loss:  0.12\n",
      "Training Accuracy: 0.96\n",
      "Training F1-score: 0.95\n",
      "Validation Accuracy: 0.85\n",
      "Validation F1-score: 0.81\n",
      "\n",
      "\n",
      "\n",
      "epoch n°10:\n"
     ]
    },
    {
     "data": {
      "application/vnd.jupyter.widget-view+json": {
       "model_id": "3c4b3b14f4774c09b7aa19c51ee8bc10",
       "version_major": 2,
       "version_minor": 0
      },
      "text/plain": [
       "  0%|          | 0/214 [00:00<?, ?it/s]"
      ]
     },
     "metadata": {},
     "output_type": "display_data"
    },
    {
     "name": "stdout",
     "output_type": "stream",
     "text": [
      "Training Loss:  0.10\n",
      "Training Accuracy: 0.96\n",
      "Training F1-score: 0.96\n",
      "Validation Accuracy: 0.84\n",
      "Validation F1-score: 0.80\n",
      "\n",
      "\n",
      "\n"
     ]
    }
   ],
   "source": [
    "from copy import deepcopy\n",
    "\n",
    "nsteps=214\n",
    "nepoch=10\n",
    "best_val_acc = 0\n",
    "for epoch in range(nepoch):\n",
    "    model.train()\n",
    "    print(f\"epoch n°{epoch+1}:\")\n",
    "    av_epoch_loss=0\n",
    "    progress_bar = tqdm(range(nsteps))\n",
    "    for batch in trainloader:\n",
    "        #batch = {k:v.cuda() for k,v in batch.items()}\n",
    "        outputs = model(**batch)\n",
    "        loss = outputs.loss\n",
    "        av_epoch_loss += loss\n",
    "        #loss.backward()\n",
    "        accelerator.backward(loss)\n",
    "        optim.step()\n",
    "        optim.zero_grad()\n",
    "        predictions=torch.argmax(outputs.logits, dim=-1)\n",
    "        f1.add_batch(predictions=predictions, references=batch[\"labels\"])\n",
    "        acc.add_batch(predictions=predictions, references=batch[\"labels\"])\n",
    "        progress_bar.update(1)\n",
    "    av_epoch_loss /= nsteps\n",
    "    print(f\"Training Loss: {av_epoch_loss: .2f}\")\n",
    "    acc_res = acc.compute()[\"accuracy\"]\n",
    "    print(f\"Training Accuracy: {acc_res:.2f}\")\n",
    "    f_res = f1.compute()[\"f1\"]\n",
    "    print(f\"Training F1-score: {f_res:.2f}\")\n",
    "    model.eval()\n",
    "    val_acc = validate(model)\n",
    "    if val_acc > best_val_acc:\n",
    "        print(\"Achieved best validation accuracy so far. Saving model.\")\n",
    "        best_val_acc = val_acc\n",
    "        best_model_state = deepcopy(model.state_dict())\n",
    "    print(\"\\n\\n\")"
   ]
  },
  {
   "cell_type": "code",
   "execution_count": 49,
   "id": "b4f9d9de-5e21-4e32-a730-9ae620f008c2",
   "metadata": {},
   "outputs": [],
   "source": [
    "torch.save(best_model_state, 'model_state_dict1.pth')"
   ]
  },
  {
   "cell_type": "markdown",
   "id": "82587e35-04f3-4cd1-bc9b-1485c8cd5ef6",
   "metadata": {},
   "source": [
    "### 使用模型构建提交文件"
   ]
  },
  {
   "cell_type": "code",
   "execution_count": 28,
   "id": "76de125c-3ce0-47ff-ac0b-16fc91f4b5d4",
   "metadata": {},
   "outputs": [
    {
     "name": "stderr",
     "output_type": "stream",
     "text": [
      "Some weights of the model checkpoint at roberta-base were not used when initializing RobertaForSequenceClassification: ['lm_head.bias', 'lm_head.dense.weight', 'roberta.pooler.dense.bias', 'roberta.pooler.dense.weight', 'lm_head.layer_norm.weight', 'lm_head.decoder.weight', 'lm_head.dense.bias', 'lm_head.layer_norm.bias']\n",
      "- This IS expected if you are initializing RobertaForSequenceClassification from the checkpoint of a model trained on another task or with another architecture (e.g. initializing a BertForSequenceClassification model from a BertForPreTraining model).\n",
      "- This IS NOT expected if you are initializing RobertaForSequenceClassification from the checkpoint of a model that you expect to be exactly identical (initializing a BertForSequenceClassification model from a BertForSequenceClassification model).\n",
      "Some weights of RobertaForSequenceClassification were not initialized from the model checkpoint at roberta-base and are newly initialized: ['classifier.out_proj.bias', 'classifier.out_proj.weight', 'classifier.dense.bias', 'classifier.dense.weight']\n",
      "You should probably TRAIN this model on a down-stream task to be able to use it for predictions and inference.\n"
     ]
    },
    {
     "data": {
      "text/plain": [
       "<All keys matched successfully>"
      ]
     },
     "execution_count": 28,
     "metadata": {},
     "output_type": "execute_result"
    }
   ],
   "source": [
    "import torch\n",
    "from transformers import AutoModelForSequenceClassification\n",
    "from transformers import AutoTokenizer\n",
    "\n",
    "tokenizer = AutoTokenizer.from_pretrained(\"roberta-base\")\n",
    "model = AutoModelForSequenceClassification.from_pretrained(\"roberta-base\", num_labels=2)\n",
    "state_dict = torch.load('model_state_dict1.pth')\n",
    "model.load_state_dict(state_dict)"
   ]
  },
  {
   "cell_type": "code",
   "execution_count": 35,
   "id": "068ff852-383f-4028-8777-c09032f3ec8c",
   "metadata": {
    "collapsed": true,
    "jupyter": {
     "outputs_hidden": true
    },
    "tags": []
   },
   "outputs": [
    {
     "data": {
      "text/plain": [
       "RobertaForSequenceClassification(\n",
       "  (roberta): RobertaModel(\n",
       "    (embeddings): RobertaEmbeddings(\n",
       "      (word_embeddings): Embedding(50265, 768, padding_idx=1)\n",
       "      (position_embeddings): Embedding(514, 768, padding_idx=1)\n",
       "      (token_type_embeddings): Embedding(1, 768)\n",
       "      (LayerNorm): LayerNorm((768,), eps=1e-05, elementwise_affine=True)\n",
       "      (dropout): Dropout(p=0.1, inplace=False)\n",
       "    )\n",
       "    (encoder): RobertaEncoder(\n",
       "      (layer): ModuleList(\n",
       "        (0): RobertaLayer(\n",
       "          (attention): RobertaAttention(\n",
       "            (self): RobertaSelfAttention(\n",
       "              (query): Linear(in_features=768, out_features=768, bias=True)\n",
       "              (key): Linear(in_features=768, out_features=768, bias=True)\n",
       "              (value): Linear(in_features=768, out_features=768, bias=True)\n",
       "              (dropout): Dropout(p=0.1, inplace=False)\n",
       "            )\n",
       "            (output): RobertaSelfOutput(\n",
       "              (dense): Linear(in_features=768, out_features=768, bias=True)\n",
       "              (LayerNorm): LayerNorm((768,), eps=1e-05, elementwise_affine=True)\n",
       "              (dropout): Dropout(p=0.1, inplace=False)\n",
       "            )\n",
       "          )\n",
       "          (intermediate): RobertaIntermediate(\n",
       "            (dense): Linear(in_features=768, out_features=3072, bias=True)\n",
       "            (intermediate_act_fn): GELUActivation()\n",
       "          )\n",
       "          (output): RobertaOutput(\n",
       "            (dense): Linear(in_features=3072, out_features=768, bias=True)\n",
       "            (LayerNorm): LayerNorm((768,), eps=1e-05, elementwise_affine=True)\n",
       "            (dropout): Dropout(p=0.1, inplace=False)\n",
       "          )\n",
       "        )\n",
       "        (1): RobertaLayer(\n",
       "          (attention): RobertaAttention(\n",
       "            (self): RobertaSelfAttention(\n",
       "              (query): Linear(in_features=768, out_features=768, bias=True)\n",
       "              (key): Linear(in_features=768, out_features=768, bias=True)\n",
       "              (value): Linear(in_features=768, out_features=768, bias=True)\n",
       "              (dropout): Dropout(p=0.1, inplace=False)\n",
       "            )\n",
       "            (output): RobertaSelfOutput(\n",
       "              (dense): Linear(in_features=768, out_features=768, bias=True)\n",
       "              (LayerNorm): LayerNorm((768,), eps=1e-05, elementwise_affine=True)\n",
       "              (dropout): Dropout(p=0.1, inplace=False)\n",
       "            )\n",
       "          )\n",
       "          (intermediate): RobertaIntermediate(\n",
       "            (dense): Linear(in_features=768, out_features=3072, bias=True)\n",
       "            (intermediate_act_fn): GELUActivation()\n",
       "          )\n",
       "          (output): RobertaOutput(\n",
       "            (dense): Linear(in_features=3072, out_features=768, bias=True)\n",
       "            (LayerNorm): LayerNorm((768,), eps=1e-05, elementwise_affine=True)\n",
       "            (dropout): Dropout(p=0.1, inplace=False)\n",
       "          )\n",
       "        )\n",
       "        (2): RobertaLayer(\n",
       "          (attention): RobertaAttention(\n",
       "            (self): RobertaSelfAttention(\n",
       "              (query): Linear(in_features=768, out_features=768, bias=True)\n",
       "              (key): Linear(in_features=768, out_features=768, bias=True)\n",
       "              (value): Linear(in_features=768, out_features=768, bias=True)\n",
       "              (dropout): Dropout(p=0.1, inplace=False)\n",
       "            )\n",
       "            (output): RobertaSelfOutput(\n",
       "              (dense): Linear(in_features=768, out_features=768, bias=True)\n",
       "              (LayerNorm): LayerNorm((768,), eps=1e-05, elementwise_affine=True)\n",
       "              (dropout): Dropout(p=0.1, inplace=False)\n",
       "            )\n",
       "          )\n",
       "          (intermediate): RobertaIntermediate(\n",
       "            (dense): Linear(in_features=768, out_features=3072, bias=True)\n",
       "            (intermediate_act_fn): GELUActivation()\n",
       "          )\n",
       "          (output): RobertaOutput(\n",
       "            (dense): Linear(in_features=3072, out_features=768, bias=True)\n",
       "            (LayerNorm): LayerNorm((768,), eps=1e-05, elementwise_affine=True)\n",
       "            (dropout): Dropout(p=0.1, inplace=False)\n",
       "          )\n",
       "        )\n",
       "        (3): RobertaLayer(\n",
       "          (attention): RobertaAttention(\n",
       "            (self): RobertaSelfAttention(\n",
       "              (query): Linear(in_features=768, out_features=768, bias=True)\n",
       "              (key): Linear(in_features=768, out_features=768, bias=True)\n",
       "              (value): Linear(in_features=768, out_features=768, bias=True)\n",
       "              (dropout): Dropout(p=0.1, inplace=False)\n",
       "            )\n",
       "            (output): RobertaSelfOutput(\n",
       "              (dense): Linear(in_features=768, out_features=768, bias=True)\n",
       "              (LayerNorm): LayerNorm((768,), eps=1e-05, elementwise_affine=True)\n",
       "              (dropout): Dropout(p=0.1, inplace=False)\n",
       "            )\n",
       "          )\n",
       "          (intermediate): RobertaIntermediate(\n",
       "            (dense): Linear(in_features=768, out_features=3072, bias=True)\n",
       "            (intermediate_act_fn): GELUActivation()\n",
       "          )\n",
       "          (output): RobertaOutput(\n",
       "            (dense): Linear(in_features=3072, out_features=768, bias=True)\n",
       "            (LayerNorm): LayerNorm((768,), eps=1e-05, elementwise_affine=True)\n",
       "            (dropout): Dropout(p=0.1, inplace=False)\n",
       "          )\n",
       "        )\n",
       "        (4): RobertaLayer(\n",
       "          (attention): RobertaAttention(\n",
       "            (self): RobertaSelfAttention(\n",
       "              (query): Linear(in_features=768, out_features=768, bias=True)\n",
       "              (key): Linear(in_features=768, out_features=768, bias=True)\n",
       "              (value): Linear(in_features=768, out_features=768, bias=True)\n",
       "              (dropout): Dropout(p=0.1, inplace=False)\n",
       "            )\n",
       "            (output): RobertaSelfOutput(\n",
       "              (dense): Linear(in_features=768, out_features=768, bias=True)\n",
       "              (LayerNorm): LayerNorm((768,), eps=1e-05, elementwise_affine=True)\n",
       "              (dropout): Dropout(p=0.1, inplace=False)\n",
       "            )\n",
       "          )\n",
       "          (intermediate): RobertaIntermediate(\n",
       "            (dense): Linear(in_features=768, out_features=3072, bias=True)\n",
       "            (intermediate_act_fn): GELUActivation()\n",
       "          )\n",
       "          (output): RobertaOutput(\n",
       "            (dense): Linear(in_features=3072, out_features=768, bias=True)\n",
       "            (LayerNorm): LayerNorm((768,), eps=1e-05, elementwise_affine=True)\n",
       "            (dropout): Dropout(p=0.1, inplace=False)\n",
       "          )\n",
       "        )\n",
       "        (5): RobertaLayer(\n",
       "          (attention): RobertaAttention(\n",
       "            (self): RobertaSelfAttention(\n",
       "              (query): Linear(in_features=768, out_features=768, bias=True)\n",
       "              (key): Linear(in_features=768, out_features=768, bias=True)\n",
       "              (value): Linear(in_features=768, out_features=768, bias=True)\n",
       "              (dropout): Dropout(p=0.1, inplace=False)\n",
       "            )\n",
       "            (output): RobertaSelfOutput(\n",
       "              (dense): Linear(in_features=768, out_features=768, bias=True)\n",
       "              (LayerNorm): LayerNorm((768,), eps=1e-05, elementwise_affine=True)\n",
       "              (dropout): Dropout(p=0.1, inplace=False)\n",
       "            )\n",
       "          )\n",
       "          (intermediate): RobertaIntermediate(\n",
       "            (dense): Linear(in_features=768, out_features=3072, bias=True)\n",
       "            (intermediate_act_fn): GELUActivation()\n",
       "          )\n",
       "          (output): RobertaOutput(\n",
       "            (dense): Linear(in_features=3072, out_features=768, bias=True)\n",
       "            (LayerNorm): LayerNorm((768,), eps=1e-05, elementwise_affine=True)\n",
       "            (dropout): Dropout(p=0.1, inplace=False)\n",
       "          )\n",
       "        )\n",
       "        (6): RobertaLayer(\n",
       "          (attention): RobertaAttention(\n",
       "            (self): RobertaSelfAttention(\n",
       "              (query): Linear(in_features=768, out_features=768, bias=True)\n",
       "              (key): Linear(in_features=768, out_features=768, bias=True)\n",
       "              (value): Linear(in_features=768, out_features=768, bias=True)\n",
       "              (dropout): Dropout(p=0.1, inplace=False)\n",
       "            )\n",
       "            (output): RobertaSelfOutput(\n",
       "              (dense): Linear(in_features=768, out_features=768, bias=True)\n",
       "              (LayerNorm): LayerNorm((768,), eps=1e-05, elementwise_affine=True)\n",
       "              (dropout): Dropout(p=0.1, inplace=False)\n",
       "            )\n",
       "          )\n",
       "          (intermediate): RobertaIntermediate(\n",
       "            (dense): Linear(in_features=768, out_features=3072, bias=True)\n",
       "            (intermediate_act_fn): GELUActivation()\n",
       "          )\n",
       "          (output): RobertaOutput(\n",
       "            (dense): Linear(in_features=3072, out_features=768, bias=True)\n",
       "            (LayerNorm): LayerNorm((768,), eps=1e-05, elementwise_affine=True)\n",
       "            (dropout): Dropout(p=0.1, inplace=False)\n",
       "          )\n",
       "        )\n",
       "        (7): RobertaLayer(\n",
       "          (attention): RobertaAttention(\n",
       "            (self): RobertaSelfAttention(\n",
       "              (query): Linear(in_features=768, out_features=768, bias=True)\n",
       "              (key): Linear(in_features=768, out_features=768, bias=True)\n",
       "              (value): Linear(in_features=768, out_features=768, bias=True)\n",
       "              (dropout): Dropout(p=0.1, inplace=False)\n",
       "            )\n",
       "            (output): RobertaSelfOutput(\n",
       "              (dense): Linear(in_features=768, out_features=768, bias=True)\n",
       "              (LayerNorm): LayerNorm((768,), eps=1e-05, elementwise_affine=True)\n",
       "              (dropout): Dropout(p=0.1, inplace=False)\n",
       "            )\n",
       "          )\n",
       "          (intermediate): RobertaIntermediate(\n",
       "            (dense): Linear(in_features=768, out_features=3072, bias=True)\n",
       "            (intermediate_act_fn): GELUActivation()\n",
       "          )\n",
       "          (output): RobertaOutput(\n",
       "            (dense): Linear(in_features=3072, out_features=768, bias=True)\n",
       "            (LayerNorm): LayerNorm((768,), eps=1e-05, elementwise_affine=True)\n",
       "            (dropout): Dropout(p=0.1, inplace=False)\n",
       "          )\n",
       "        )\n",
       "        (8): RobertaLayer(\n",
       "          (attention): RobertaAttention(\n",
       "            (self): RobertaSelfAttention(\n",
       "              (query): Linear(in_features=768, out_features=768, bias=True)\n",
       "              (key): Linear(in_features=768, out_features=768, bias=True)\n",
       "              (value): Linear(in_features=768, out_features=768, bias=True)\n",
       "              (dropout): Dropout(p=0.1, inplace=False)\n",
       "            )\n",
       "            (output): RobertaSelfOutput(\n",
       "              (dense): Linear(in_features=768, out_features=768, bias=True)\n",
       "              (LayerNorm): LayerNorm((768,), eps=1e-05, elementwise_affine=True)\n",
       "              (dropout): Dropout(p=0.1, inplace=False)\n",
       "            )\n",
       "          )\n",
       "          (intermediate): RobertaIntermediate(\n",
       "            (dense): Linear(in_features=768, out_features=3072, bias=True)\n",
       "            (intermediate_act_fn): GELUActivation()\n",
       "          )\n",
       "          (output): RobertaOutput(\n",
       "            (dense): Linear(in_features=3072, out_features=768, bias=True)\n",
       "            (LayerNorm): LayerNorm((768,), eps=1e-05, elementwise_affine=True)\n",
       "            (dropout): Dropout(p=0.1, inplace=False)\n",
       "          )\n",
       "        )\n",
       "        (9): RobertaLayer(\n",
       "          (attention): RobertaAttention(\n",
       "            (self): RobertaSelfAttention(\n",
       "              (query): Linear(in_features=768, out_features=768, bias=True)\n",
       "              (key): Linear(in_features=768, out_features=768, bias=True)\n",
       "              (value): Linear(in_features=768, out_features=768, bias=True)\n",
       "              (dropout): Dropout(p=0.1, inplace=False)\n",
       "            )\n",
       "            (output): RobertaSelfOutput(\n",
       "              (dense): Linear(in_features=768, out_features=768, bias=True)\n",
       "              (LayerNorm): LayerNorm((768,), eps=1e-05, elementwise_affine=True)\n",
       "              (dropout): Dropout(p=0.1, inplace=False)\n",
       "            )\n",
       "          )\n",
       "          (intermediate): RobertaIntermediate(\n",
       "            (dense): Linear(in_features=768, out_features=3072, bias=True)\n",
       "            (intermediate_act_fn): GELUActivation()\n",
       "          )\n",
       "          (output): RobertaOutput(\n",
       "            (dense): Linear(in_features=3072, out_features=768, bias=True)\n",
       "            (LayerNorm): LayerNorm((768,), eps=1e-05, elementwise_affine=True)\n",
       "            (dropout): Dropout(p=0.1, inplace=False)\n",
       "          )\n",
       "        )\n",
       "        (10): RobertaLayer(\n",
       "          (attention): RobertaAttention(\n",
       "            (self): RobertaSelfAttention(\n",
       "              (query): Linear(in_features=768, out_features=768, bias=True)\n",
       "              (key): Linear(in_features=768, out_features=768, bias=True)\n",
       "              (value): Linear(in_features=768, out_features=768, bias=True)\n",
       "              (dropout): Dropout(p=0.1, inplace=False)\n",
       "            )\n",
       "            (output): RobertaSelfOutput(\n",
       "              (dense): Linear(in_features=768, out_features=768, bias=True)\n",
       "              (LayerNorm): LayerNorm((768,), eps=1e-05, elementwise_affine=True)\n",
       "              (dropout): Dropout(p=0.1, inplace=False)\n",
       "            )\n",
       "          )\n",
       "          (intermediate): RobertaIntermediate(\n",
       "            (dense): Linear(in_features=768, out_features=3072, bias=True)\n",
       "            (intermediate_act_fn): GELUActivation()\n",
       "          )\n",
       "          (output): RobertaOutput(\n",
       "            (dense): Linear(in_features=3072, out_features=768, bias=True)\n",
       "            (LayerNorm): LayerNorm((768,), eps=1e-05, elementwise_affine=True)\n",
       "            (dropout): Dropout(p=0.1, inplace=False)\n",
       "          )\n",
       "        )\n",
       "        (11): RobertaLayer(\n",
       "          (attention): RobertaAttention(\n",
       "            (self): RobertaSelfAttention(\n",
       "              (query): Linear(in_features=768, out_features=768, bias=True)\n",
       "              (key): Linear(in_features=768, out_features=768, bias=True)\n",
       "              (value): Linear(in_features=768, out_features=768, bias=True)\n",
       "              (dropout): Dropout(p=0.1, inplace=False)\n",
       "            )\n",
       "            (output): RobertaSelfOutput(\n",
       "              (dense): Linear(in_features=768, out_features=768, bias=True)\n",
       "              (LayerNorm): LayerNorm((768,), eps=1e-05, elementwise_affine=True)\n",
       "              (dropout): Dropout(p=0.1, inplace=False)\n",
       "            )\n",
       "          )\n",
       "          (intermediate): RobertaIntermediate(\n",
       "            (dense): Linear(in_features=768, out_features=3072, bias=True)\n",
       "            (intermediate_act_fn): GELUActivation()\n",
       "          )\n",
       "          (output): RobertaOutput(\n",
       "            (dense): Linear(in_features=3072, out_features=768, bias=True)\n",
       "            (LayerNorm): LayerNorm((768,), eps=1e-05, elementwise_affine=True)\n",
       "            (dropout): Dropout(p=0.1, inplace=False)\n",
       "          )\n",
       "        )\n",
       "      )\n",
       "    )\n",
       "  )\n",
       "  (classifier): RobertaClassificationHead(\n",
       "    (dense): Linear(in_features=768, out_features=768, bias=True)\n",
       "    (dropout): Dropout(p=0.1, inplace=False)\n",
       "    (out_proj): Linear(in_features=768, out_features=2, bias=True)\n",
       "  )\n",
       ")"
      ]
     },
     "execution_count": 35,
     "metadata": {},
     "output_type": "execute_result"
    }
   ],
   "source": [
    "device = torch.device(\"cuda:0\" if torch.cuda.is_available() else \"cpu\")\n",
    "model.to(device)"
   ]
  },
  {
   "cell_type": "code",
   "execution_count": 26,
   "id": "faa00328-0004-4f07-a303-b90297da7811",
   "metadata": {},
   "outputs": [
    {
     "name": "stderr",
     "output_type": "stream",
     "text": [
      "Using custom data configuration default-2decda1024400709\n",
      "Found cached dataset csv (/root/.cache/huggingface/datasets/csv/default-2decda1024400709/0.0.0/6b34fb8fcf56f7c8ba51dc895bfa2bfbe43546f190a60fcf74bb5e8afdcc2317)\n"
     ]
    },
    {
     "data": {
      "application/vnd.jupyter.widget-view+json": {
       "model_id": "903a66aedf714f30ab6ba029560e179f",
       "version_major": 2,
       "version_minor": 0
      },
      "text/plain": [
       "  0%|          | 0/1 [00:00<?, ?it/s]"
      ]
     },
     "metadata": {},
     "output_type": "display_data"
    },
    {
     "data": {
      "text/plain": [
       "Dataset({\n",
       "    features: ['combind_text'],\n",
       "    num_rows: 3263\n",
       "})"
      ]
     },
     "execution_count": 26,
     "metadata": {},
     "output_type": "execute_result"
    }
   ],
   "source": [
    "from datasets import load_dataset , Dataset\n",
    "dataToPred = load_dataset(\"csv\" , data_files=\"./test_data.csv\")[\"train\"]\n",
    "dataToPred"
   ]
  },
  {
   "cell_type": "code",
   "execution_count": 30,
   "id": "6ae42d17-24ed-4950-a3e8-028295421410",
   "metadata": {},
   "outputs": [
    {
     "data": {
      "application/vnd.jupyter.widget-view+json": {
       "model_id": "57e44cfcdad94c07ae462d1e957c45dd",
       "version_major": 2,
       "version_minor": 0
      },
      "text/plain": [
       "  0%|          | 0/4 [00:00<?, ?ba/s]"
      ]
     },
     "metadata": {},
     "output_type": "display_data"
    }
   ],
   "source": [
    "def tokenize(example):\n",
    "    return tokenizer(example[\"combind_text\"] , truncation=True)\n",
    "dataToPred = dataToPred.map(tokenize , batched=True)"
   ]
  },
  {
   "cell_type": "code",
   "execution_count": 31,
   "id": "b352394e-a815-4098-9f22-e22eedde967c",
   "metadata": {},
   "outputs": [
    {
     "data": {
      "text/plain": [
       "Dataset({\n",
       "    features: ['combind_text', 'input_ids', 'attention_mask'],\n",
       "    num_rows: 3263\n",
       "})"
      ]
     },
     "execution_count": 31,
     "metadata": {},
     "output_type": "execute_result"
    }
   ],
   "source": [
    "dataToPred"
   ]
  },
  {
   "cell_type": "code",
   "execution_count": 33,
   "id": "deaea776-2b5e-40eb-b261-8a622feb4584",
   "metadata": {},
   "outputs": [
    {
     "data": {
      "text/plain": [
       "Dataset({\n",
       "    features: ['input_ids', 'attention_mask'],\n",
       "    num_rows: 3263\n",
       "})"
      ]
     },
     "execution_count": 33,
     "metadata": {},
     "output_type": "execute_result"
    }
   ],
   "source": [
    "dataToPred = dataToPred.remove_columns([\"combind_text\"]).with_format(\"torch\")\n",
    "dataToPred"
   ]
  },
  {
   "cell_type": "code",
   "execution_count": 36,
   "id": "f56f9757-860b-4b64-b1ff-381d6adfac09",
   "metadata": {},
   "outputs": [],
   "source": [
    "from transformers import DataCollatorWithPadding\n",
    "from torch.utils.data import DataLoader\n",
    "\n",
    "datacol = DataCollatorWithPadding(tokenizer)\n",
    "predloader = DataLoader(dataToPred,\n",
    "                        batch_size=32,\n",
    "                        collate_fn=datacol)\n",
    "preds = torch.Tensor().cuda()\n",
    "for batch in predloader:\n",
    "    batch = {k : v.cuda() for k,v in batch.items()}\n",
    "    outputs = model(**batch)\n",
    "    preds = torch.cat((preds , torch.argmax(outputs.logits , dim=-1)))\n",
    "preds = pd.Series(preds.cpu()).astype(\"int64\")"
   ]
  },
  {
   "cell_type": "code",
   "execution_count": 37,
   "id": "03669816-daf8-4cda-8eba-a46413e085ce",
   "metadata": {},
   "outputs": [
    {
     "data": {
      "text/plain": [
       "0       1\n",
       "1       1\n",
       "2       1\n",
       "3       1\n",
       "4       1\n",
       "       ..\n",
       "3258    0\n",
       "3259    1\n",
       "3260    1\n",
       "3261    1\n",
       "3262    1\n",
       "Length: 3263, dtype: int64"
      ]
     },
     "execution_count": 37,
     "metadata": {},
     "output_type": "execute_result"
    }
   ],
   "source": [
    "preds"
   ]
  },
  {
   "cell_type": "code",
   "execution_count": 41,
   "id": "72ccdc15-96fc-43a2-b909-298c9409ad81",
   "metadata": {},
   "outputs": [],
   "source": [
    "ids = pd.read_csv(\"./test.csv\")[\"id\"]\n",
    "submission = pd.DataFrame({\"id\":ids , \"target\":preds})\n",
    "submission.to_csv(\"./submission.csv\" , index=False)"
   ]
  }
 ],
 "metadata": {
  "kernelspec": {
   "display_name": "Python 3 (ipykernel)",
   "language": "python",
   "name": "python3"
  },
  "language_info": {
   "codemirror_mode": {
    "name": "ipython",
    "version": 3
   },
   "file_extension": ".py",
   "mimetype": "text/x-python",
   "name": "python",
   "nbconvert_exporter": "python",
   "pygments_lexer": "ipython3",
   "version": "3.8.10"
  }
 },
 "nbformat": 4,
 "nbformat_minor": 5
}
